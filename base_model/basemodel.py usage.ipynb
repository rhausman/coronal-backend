{
 "cells": [
  {
   "cell_type": "code",
   "execution_count": 1,
   "metadata": {},
   "outputs": [],
   "source": [
    "from basemodel import RHRAD_online, resultsProcesser\n",
    "import pandas as pd"
   ]
  },
  {
   "cell_type": "code",
   "execution_count": null,
   "metadata": {},
   "outputs": [],
   "source": [
    "# 2 csvs are created from constructing the RHRAD_online model:\n",
    "# 1. xxx_anomalies.csv -- holds datetimes (hours) of anomalous RHR readings\n",
    "# 2. xxx_alerts.csv -- holds datetimes (daily at 9pm) of health alerts\n",
    "\n",
    "# Note: If anomalies.csv is empty (the individual had no anomalies over the examined period), \n",
    "# alerts.csv will not be created\n",
    "# Also note: As is, this model is used for one individual's heartrate and steps csvs. \n",
    "\n",
    "# Case 1:\n",
    "# we are checking if individual AJWW3IY had any anomalies in the last day, using the 20 days or 480 hours\n",
    "# before that as a baseline. The output in this case is nothing to anomalies csv, and the alerts csv is not created.\n",
    "\n",
    "model1 = RHRAD_online(hr=\"data/AJWW3IY_hr.csv\", # path to heart rate csv\n",
    "                     steps=\"data/AJWW3IY_steps.csv\", # path to steps csv\n",
    "                     baseline_window=480, # number of hours to use as baseline (if baseline_window > data length, will fail)\n",
    "                     last_day_only=True, # if True, only the most recent day is checked for anomalous heartrates\n",
    "                     myphd_id_anomalies=\"results/AJWW3IY_anomalies.csv\", # where to put anomalies csv\n",
    "                     myphd_id_alerts = \"results/AJWW3IY_alerts.csv\", # where to put alerts csv\n",
    "                    )"
   ]
  },
  {
   "cell_type": "code",
   "execution_count": null,
   "metadata": {},
   "outputs": [],
   "source": [
    "# Case 2:\n",
    "# we are checking if individual AHYIJDV had any anomalies starting 20 days after his data starts. \n",
    "# In this case, there should be anomalies and alerts recorded in the csv\n",
    "\n",
    "model2 = RHRAD_online(hr=\"data/AHYIJDV_hr.csv\", # path to heart rate csv\n",
    "                     steps=\"data/AHYIJDV_steps.csv\", # path to steps csv\n",
    "                     baseline_window=480, # number of hours to use as baseline (if baseline_window > data length, will fail)\n",
    "                     last_day_only=False, # if True, only the most recent day is checked for anomalous heartrates\n",
    "                     myphd_id_anomalies=\"results/AHYIJDV_anomalies-all.csv\", # where to put anomalies csv\n",
    "                     myphd_id_alerts = \"results/AHYIJDV_alerts-all.csv\", # where to put alerts csv\n",
    "                    )"
   ]
  },
  {
   "cell_type": "code",
   "execution_count": null,
   "metadata": {
    "scrolled": true
   },
   "outputs": [],
   "source": [
    "# Case 3:\n",
    "# we are checking if individual AJWW3IY had any anomalies starting 31 days after his data starts. \n",
    "# In this case, the code fails because 31days=744hours is longer than the patient's collected data.\n",
    "\n",
    "model3 = RHRAD_online(hr=\"data/AJWW3IY_hr.csv\", # path to heart rate csv\n",
    "                     steps=\"data/AJWW3IY_steps.csv\", # path to steps csv\n",
    "                     baseline_window=744, # number of hours to use as baseline (if baseline_window > data length, will fail)\n",
    "                     last_day_only=False, # if True, only the most recent day is checked for anomalous heartrates\n",
    "                     myphd_id_anomalies=\"results/AJWW3IY_anomalies-all.csv\", # where to put anomalies csv\n",
    "                     myphd_id_alerts = \"results/AJWW3IY_alerts-all.csv\", # where to put alerts csv\n",
    "                    )"
   ]
  },
  {
   "cell_type": "markdown",
   "metadata": {},
   "source": [
    "# Using the resultsProcesser class"
   ]
  },
  {
   "cell_type": "code",
   "execution_count": null,
   "metadata": {},
   "outputs": [],
   "source": [
    "# using results from model1\n",
    "resultsModel = resultsProcesser(anomaliesCSV=\"results/AJWW3IY_anomalies.csv\",\n",
    "                                alertsCSV=\"results/AJWW3IY_alerts.csv\")"
   ]
  },
  {
   "cell_type": "code",
   "execution_count": null,
   "metadata": {},
   "outputs": [],
   "source": [
    "resultsModel.getAlertLevel()"
   ]
  },
  {
   "cell_type": "markdown",
   "metadata": {},
   "source": [
    "# Cherry picking some results"
   ]
  },
  {
   "cell_type": "markdown",
   "metadata": {},
   "source": [
    "## IndividualRed comes from id:AHYIJDV\n",
    "\n",
    "id:AHYIJDV had covid"
   ]
  },
  {
   "cell_type": "code",
   "execution_count": null,
   "metadata": {},
   "outputs": [],
   "source": [
    "df1 = pd.read_csv(\"data/AHYIJDV_hr.csv\", index_col=\"datetime\")\n",
    "df2 = pd.read_csv(\"data/AHYIJDV_steps.csv\", index_col=\"datetime\")"
   ]
  },
  {
   "cell_type": "code",
   "execution_count": null,
   "metadata": {
    "scrolled": true
   },
   "outputs": [],
   "source": [
    "df1.loc[:\"2020-10-18\"].to_csv(\"data/IndividualRed_hr.csv\")\n",
    "df2.loc[:\"2020-10-18\"].to_csv(\"data/IndividualRed_steps.csv\")\n",
    "\n",
    "model1 = RHRAD_online(hr=\"data/IndividualRed_hr.csv\", # path to heart rate csv\n",
    "                     steps=\"data/IndividualRed_steps.csv\", # path to steps csv\n",
    "                     baseline_window=480, # number of hours to use as baseline (if baseline_window > data length, will fail)\n",
    "                     last_day_only=True, # if True, only the most recent day is checked for anomalous heartrates\n",
    "                     myphd_id_anomalies=\"results/IndividualRed_anomalies.csv\", # where to put anomalies csv\n",
    "                     myphd_id_alerts = \"results/IndividualRed_alerts.csv\", # where to put alerts csv\n",
    "                    )\n",
    "\n",
    "resultsModel = resultsProcesser(anomaliesCSV=\"results/IndividualRed_anomalies.csv\",\n",
    "                                alertsCSV=\"results/IndividualRed_alerts.csv\")\n"
   ]
  },
  {
   "cell_type": "code",
   "execution_count": null,
   "metadata": {},
   "outputs": [],
   "source": [
    "resultsModel.getAlertLevel()"
   ]
  },
  {
   "cell_type": "code",
   "execution_count": null,
   "metadata": {},
   "outputs": [],
   "source": [
    "model1.pos_anomalies"
   ]
  },
  {
   "cell_type": "markdown",
   "metadata": {},
   "source": [
    "## IndividualYellow comes from id:AFPB8J2\n",
    "\n",
    "id:AFPB8J2 had covid"
   ]
  },
  {
   "cell_type": "code",
   "execution_count": 2,
   "metadata": {
    "scrolled": false
   },
   "outputs": [],
   "source": [
    "df1 = pd.read_csv(\"data/AFPB8J2_hr.csv\", index_col=\"datetime\")\n",
    "df2 = pd.read_csv(\"data/AFPB8J2_steps.csv\", index_col=\"datetime\")\n",
    "\n",
    "df1.loc[:\"2026-08-22\"].to_csv(\"data/IndividualYellow_hr.csv\")\n",
    "df2.loc[:\"2026-08-22\"].to_csv(\"data/IndividualYellow_steps.csv\")"
   ]
  },
  {
   "cell_type": "code",
   "execution_count": 3,
   "metadata": {},
   "outputs": [
    {
     "data": {
      "text/plain": [
       "'medium'"
      ]
     },
     "execution_count": 3,
     "metadata": {},
     "output_type": "execute_result"
    }
   ],
   "source": [
    "model1 = RHRAD_online(hr=\"data/IndividualYellow_hr.csv\", # path to heart rate csv\n",
    "                     steps=\"data/IndividualYellow_steps.csv\", # path to steps csv\n",
    "                     baseline_window=480, # number of hours to use as baseline (if baseline_window > data length, will fail)\n",
    "                     last_day_only=True, # if True, only the most recent day is checked for anomalous heartrates\n",
    "                     myphd_id_anomalies=\"results/IndividualYellow_anomalies.csv\", # where to put anomalies csv\n",
    "                     myphd_id_alerts = \"results/IndividualYellow_alerts.csv\", # where to put alerts csv\n",
    "                    )\n",
    "\n",
    "resultsModel = resultsProcesser(anomaliesCSV=\"results/IndividualYellow_anomalies.csv\",\n",
    "                                alertsCSV=\"results/IndividualYellow_alerts.csv\")\n",
    "\n",
    "resultsModel.getAlertLevel()"
   ]
  },
  {
   "cell_type": "code",
   "execution_count": 4,
   "metadata": {
    "scrolled": true
   },
   "outputs": [
    {
     "data": {
      "text/plain": [
       "['05:00:00', '07:00:00', '08:00:00', '09:00:00', '21:00:00']"
      ]
     },
     "execution_count": 4,
     "metadata": {},
     "output_type": "execute_result"
    }
   ],
   "source": [
    "resultsModel.getAnomalousHours()"
   ]
  },
  {
   "cell_type": "markdown",
   "metadata": {},
   "source": [
    "## IndividualGreen comes from id:AJWW3IY (data not edited at all)"
   ]
  },
  {
   "cell_type": "code",
   "execution_count": null,
   "metadata": {},
   "outputs": [],
   "source": [
    "model1 = RHRAD_online(hr=\"data/IndividualGreen_hr.csv\", # path to heart rate csv\n",
    "                     steps=\"data/IndividualGreen_steps.csv\", # path to steps csv\n",
    "                     baseline_window=480, # number of hours to use as baseline (if baseline_window > data length, will fail)\n",
    "                     last_day_only=True, # if True, only the most recent day is checked for anomalous heartrates\n",
    "                     myphd_id_anomalies=\"results/IndividualGreen_anomalies.csv\", # where to put anomalies csv\n",
    "                     myphd_id_alerts = \"results/IndividualGreen_alerts.csv\", # where to put alerts csv\n",
    "                    )\n",
    "\n",
    "resultsModel = resultsProcesser(anomaliesCSV=\"results/IndividualGreen_anomalies.csv\",\n",
    "                                alertsCSV=\"results/IndividualGreen_alerts.csv\")\n",
    "\n",
    "resultsModel.getAlertLevel()"
   ]
  },
  {
   "cell_type": "code",
   "execution_count": null,
   "metadata": {},
   "outputs": [],
   "source": [
    "resultsModel"
   ]
  }
 ],
 "metadata": {
  "kernelspec": {
   "display_name": "Python 3",
   "language": "python",
   "name": "python3"
  },
  "language_info": {
   "codemirror_mode": {
    "name": "ipython",
    "version": 3
   },
   "file_extension": ".py",
   "mimetype": "text/x-python",
   "name": "python",
   "nbconvert_exporter": "python",
   "pygments_lexer": "ipython3",
   "version": "3.8.3"
  }
 },
 "nbformat": 4,
 "nbformat_minor": 4
}
