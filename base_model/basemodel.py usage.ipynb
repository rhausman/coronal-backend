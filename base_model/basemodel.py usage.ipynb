{
 "cells": [
  {
   "cell_type": "code",
   "execution_count": 1,
   "metadata": {},
   "outputs": [],
   "source": [
    "from basemodel import RHRAD_online"
   ]
  },
  {
   "cell_type": "code",
   "execution_count": 2,
   "metadata": {},
   "outputs": [],
   "source": [
    "from basemodel import resultsProcesser"
   ]
  },
  {
   "cell_type": "code",
   "execution_count": 5,
   "metadata": {},
   "outputs": [],
   "source": [
    "# 2 csvs are created from constructing the RHRAD_online model:\n",
    "# 1. xxx_anomalies.csv -- holds datetimes (hours) of anomalous RHR readings\n",
    "# 2. xxx_alerts.csv -- holds datetimes (daily at 9pm) of health alerts\n",
    "\n",
    "# Note: If anomalies.csv is empty (the individual had no anomalies over the examined period), \n",
    "# alerts.csv will not be created\n",
    "# Also note: As is, this model is used for one individual's heartrate and steps csvs. \n",
    "\n",
    "# Case 1:\n",
    "# we are checking if individual AJWW3IY had any anomalies in the last day, using the 20 days or 480 hours\n",
    "# before that as a baseline. The output in this case is nothing to anomalies csv, and the alerts csv is not created.\n",
    "\n",
    "model1 = RHRAD_online(hr=\"data/AJWW3IY_hr.csv\", # path to heart rate csv\n",
    "                     steps=\"data/AJWW3IY_steps.csv\", # path to steps csv\n",
    "                     baseline_window=480, # number of hours to use as baseline (if baseline_window > data length, will fail)\n",
    "                     last_day_only=True, # if True, only the most recent day is checked for anomalous heartrates\n",
    "                     myphd_id_anomalies=\"results/AJWW3IY_anomalies.csv\", # where to put anomalies csv\n",
    "                     myphd_id_alerts = \"results/AJWW3IY_alerts.csv\", # where to put alerts csv\n",
    "                    )"
   ]
  },
  {
   "cell_type": "code",
   "execution_count": 6,
   "metadata": {},
   "outputs": [],
   "source": [
    "# Case 2:\n",
    "# we are checking if individual AHYIJDV had any anomalies starting 20 days after his data starts. \n",
    "# In this case, there should be anomalies and alerts recorded in the csv\n",
    "\n",
    "model2 = RHRAD_online(hr=\"data/AHYIJDV_hr.csv\", # path to heart rate csv\n",
    "                     steps=\"data/AHYIJDV_steps.csv\", # path to steps csv\n",
    "                     baseline_window=480, # number of hours to use as baseline (if baseline_window > data length, will fail)\n",
    "                     last_day_only=False, # if True, only the most recent day is checked for anomalous heartrates\n",
    "                     myphd_id_anomalies=\"results/AHYIJDV_anomalies-all.csv\", # where to put anomalies csv\n",
    "                     myphd_id_alerts = \"results/AHYIJDV_alerts-all.csv\", # where to put alerts csv\n",
    "                    )"
   ]
  },
  {
   "cell_type": "code",
   "execution_count": 7,
   "metadata": {
    "scrolled": true
   },
   "outputs": [
    {
     "ename": "ValueError",
     "evalue": "No objects to concatenate",
     "output_type": "error",
     "traceback": [
      "\u001b[0;31m---------------------------------------------------------------------------\u001b[0m",
      "\u001b[0;31mValueError\u001b[0m                                Traceback (most recent call last)",
      "\u001b[0;32m<ipython-input-7-f0dd81e1374c>\u001b[0m in \u001b[0;36m<module>\u001b[0;34m\u001b[0m\n\u001b[1;32m      3\u001b[0m \u001b[0;31m# In this case, the code fails because 31days=744hours is longer than the patient's collected data.\u001b[0m\u001b[0;34m\u001b[0m\u001b[0;34m\u001b[0m\u001b[0;34m\u001b[0m\u001b[0m\n\u001b[1;32m      4\u001b[0m \u001b[0;34m\u001b[0m\u001b[0m\n\u001b[0;32m----> 5\u001b[0;31m model3 = RHRAD_online(hr=\"data/AJWW3IY_hr.csv\", # path to heart rate csv\n\u001b[0m\u001b[1;32m      6\u001b[0m                      \u001b[0msteps\u001b[0m\u001b[0;34m=\u001b[0m\u001b[0;34m\"data/AJWW3IY_steps.csv\"\u001b[0m\u001b[0;34m,\u001b[0m \u001b[0;31m# path to steps csv\u001b[0m\u001b[0;34m\u001b[0m\u001b[0;34m\u001b[0m\u001b[0m\n\u001b[1;32m      7\u001b[0m                      \u001b[0mbaseline_window\u001b[0m\u001b[0;34m=\u001b[0m\u001b[0;36m744\u001b[0m\u001b[0;34m,\u001b[0m \u001b[0;31m# number of hours to use as baseline (if baseline_window > data length, will fail)\u001b[0m\u001b[0;34m\u001b[0m\u001b[0;34m\u001b[0m\u001b[0m\n",
      "\u001b[0;32m~/coronal-backend/base_model/basemodel.py\u001b[0m in \u001b[0;36m__init__\u001b[0;34m(self, hr, steps, myphd_id, symptom_date, diagnosis_date, RANDOM_SEED, outliers_fraction, baseline_window, sliding_window, myphd_id_anomalies, myphd_id_figure1, myphd_id_alerts, myphd_id_figure2, last_day_only)\u001b[0m\n\u001b[1;32m     73\u001b[0m \u001b[0;34m\u001b[0m\u001b[0m\n\u001b[1;32m     74\u001b[0m         \u001b[0;31m# Process results\u001b[0m\u001b[0;34m\u001b[0m\u001b[0;34m\u001b[0m\u001b[0;34m\u001b[0m\u001b[0m\n\u001b[0;32m---> 75\u001b[0;31m         \u001b[0mresults\u001b[0m \u001b[0;34m=\u001b[0m \u001b[0mself\u001b[0m\u001b[0;34m.\u001b[0m\u001b[0mmerge_test_results\u001b[0m\u001b[0;34m(\u001b[0m\u001b[0mself\u001b[0m\u001b[0;34m.\u001b[0m\u001b[0mdata_test\u001b[0m\u001b[0;34m)\u001b[0m\u001b[0;34m\u001b[0m\u001b[0;34m\u001b[0m\u001b[0m\n\u001b[0m\u001b[1;32m     76\u001b[0m         \u001b[0mself\u001b[0m\u001b[0;34m.\u001b[0m\u001b[0mpos_anomalies\u001b[0m \u001b[0;34m=\u001b[0m \u001b[0mself\u001b[0m\u001b[0;34m.\u001b[0m\u001b[0mpositive_anomalies\u001b[0m\u001b[0;34m(\u001b[0m\u001b[0mresults\u001b[0m\u001b[0;34m)\u001b[0m\u001b[0;34m\u001b[0m\u001b[0;34m\u001b[0m\u001b[0m\n\u001b[1;32m     77\u001b[0m \u001b[0;34m\u001b[0m\u001b[0m\n",
      "\u001b[0;32m~/coronal-backend/base_model/basemodel.py\u001b[0m in \u001b[0;36mmerge_test_results\u001b[0;34m(self, data_test)\u001b[0m\n\u001b[1;32m    224\u001b[0m         \"\"\"\n\u001b[1;32m    225\u001b[0m         \u001b[0;31m# concat all test data (from sliding window) with their datetime index and others\u001b[0m\u001b[0;34m\u001b[0m\u001b[0;34m\u001b[0m\u001b[0;34m\u001b[0m\u001b[0m\n\u001b[0;32m--> 226\u001b[0;31m         \u001b[0mdata_test\u001b[0m \u001b[0;34m=\u001b[0m \u001b[0mpd\u001b[0m\u001b[0;34m.\u001b[0m\u001b[0mconcat\u001b[0m\u001b[0;34m(\u001b[0m\u001b[0mdata_test\u001b[0m\u001b[0;34m)\u001b[0m\u001b[0;34m\u001b[0m\u001b[0;34m\u001b[0m\u001b[0m\n\u001b[0m\u001b[1;32m    227\u001b[0m         \u001b[0;31m# merge predicted anomalies from test data with their corresponding index and other features\u001b[0m\u001b[0;34m\u001b[0m\u001b[0;34m\u001b[0m\u001b[0;34m\u001b[0m\u001b[0m\n\u001b[1;32m    228\u001b[0m         \u001b[0mpreds\u001b[0m \u001b[0;34m=\u001b[0m \u001b[0mpd\u001b[0m\u001b[0;34m.\u001b[0m\u001b[0mDataFrame\u001b[0m\u001b[0;34m(\u001b[0m\u001b[0mself\u001b[0m\u001b[0;34m.\u001b[0m\u001b[0mdfs\u001b[0m\u001b[0;34m)\u001b[0m\u001b[0;34m\u001b[0m\u001b[0;34m\u001b[0m\u001b[0m\n",
      "\u001b[0;32m/opt/anaconda3/lib/python3.8/site-packages/pandas/core/reshape/concat.py\u001b[0m in \u001b[0;36mconcat\u001b[0;34m(objs, axis, join, ignore_index, keys, levels, names, verify_integrity, sort, copy)\u001b[0m\n\u001b[1;32m    269\u001b[0m     \u001b[0mValueError\u001b[0m\u001b[0;34m:\u001b[0m \u001b[0mIndexes\u001b[0m \u001b[0mhave\u001b[0m \u001b[0moverlapping\u001b[0m \u001b[0mvalues\u001b[0m\u001b[0;34m:\u001b[0m \u001b[0;34m[\u001b[0m\u001b[0;34m'a'\u001b[0m\u001b[0;34m]\u001b[0m\u001b[0;34m\u001b[0m\u001b[0;34m\u001b[0m\u001b[0m\n\u001b[1;32m    270\u001b[0m     \"\"\"\n\u001b[0;32m--> 271\u001b[0;31m     op = _Concatenator(\n\u001b[0m\u001b[1;32m    272\u001b[0m         \u001b[0mobjs\u001b[0m\u001b[0;34m,\u001b[0m\u001b[0;34m\u001b[0m\u001b[0;34m\u001b[0m\u001b[0m\n\u001b[1;32m    273\u001b[0m         \u001b[0maxis\u001b[0m\u001b[0;34m=\u001b[0m\u001b[0maxis\u001b[0m\u001b[0;34m,\u001b[0m\u001b[0;34m\u001b[0m\u001b[0;34m\u001b[0m\u001b[0m\n",
      "\u001b[0;32m/opt/anaconda3/lib/python3.8/site-packages/pandas/core/reshape/concat.py\u001b[0m in \u001b[0;36m__init__\u001b[0;34m(self, objs, axis, join, keys, levels, names, ignore_index, verify_integrity, copy, sort)\u001b[0m\n\u001b[1;32m    327\u001b[0m \u001b[0;34m\u001b[0m\u001b[0m\n\u001b[1;32m    328\u001b[0m         \u001b[0;32mif\u001b[0m \u001b[0mlen\u001b[0m\u001b[0;34m(\u001b[0m\u001b[0mobjs\u001b[0m\u001b[0;34m)\u001b[0m \u001b[0;34m==\u001b[0m \u001b[0;36m0\u001b[0m\u001b[0;34m:\u001b[0m\u001b[0;34m\u001b[0m\u001b[0;34m\u001b[0m\u001b[0m\n\u001b[0;32m--> 329\u001b[0;31m             \u001b[0;32mraise\u001b[0m \u001b[0mValueError\u001b[0m\u001b[0;34m(\u001b[0m\u001b[0;34m\"No objects to concatenate\"\u001b[0m\u001b[0;34m)\u001b[0m\u001b[0;34m\u001b[0m\u001b[0;34m\u001b[0m\u001b[0m\n\u001b[0m\u001b[1;32m    330\u001b[0m \u001b[0;34m\u001b[0m\u001b[0m\n\u001b[1;32m    331\u001b[0m         \u001b[0;32mif\u001b[0m \u001b[0mkeys\u001b[0m \u001b[0;32mis\u001b[0m \u001b[0;32mNone\u001b[0m\u001b[0;34m:\u001b[0m\u001b[0;34m\u001b[0m\u001b[0;34m\u001b[0m\u001b[0m\n",
      "\u001b[0;31mValueError\u001b[0m: No objects to concatenate"
     ]
    }
   ],
   "source": [
    "# Case 3:\n",
    "# we are checking if individual AJWW3IY had any anomalies starting 31 days after his data starts. \n",
    "# In this case, the code fails because 31days=744hours is longer than the patient's collected data.\n",
    "\n",
    "model3 = RHRAD_online(hr=\"data/AJWW3IY_hr.csv\", # path to heart rate csv\n",
    "                     steps=\"data/AJWW3IY_steps.csv\", # path to steps csv\n",
    "                     baseline_window=744, # number of hours to use as baseline (if baseline_window > data length, will fail)\n",
    "                     last_day_only=False, # if True, only the most recent day is checked for anomalous heartrates\n",
    "                     myphd_id_anomalies=\"results/AJWW3IY_anomalies-all.csv\", # where to put anomalies csv\n",
    "                     myphd_id_alerts = \"results/AJWW3IY_alerts-all.csv\", # where to put alerts csv\n",
    "                    )"
   ]
  },
  {
   "cell_type": "markdown",
   "metadata": {},
   "source": [
    "# Using the resultsProcesser class"
   ]
  },
  {
   "cell_type": "code",
   "execution_count": 8,
   "metadata": {},
   "outputs": [],
   "source": [
    "# using results from model1\n",
    "resultsModel = resultsProcesser(anomaliesCSV=\"results/AJWW3IY_anomalies.csv\",\n",
    "                                alertsCSV=\"results/AJWW3IY_alerts.csv\")"
   ]
  },
  {
   "cell_type": "code",
   "execution_count": 9,
   "metadata": {},
   "outputs": [
    {
     "data": {
      "text/plain": [
       "'low'"
      ]
     },
     "execution_count": 9,
     "metadata": {},
     "output_type": "execute_result"
    }
   ],
   "source": [
    "resultsModel.getAlertLevel()"
   ]
  },
  {
   "cell_type": "code",
   "execution_count": null,
   "metadata": {},
   "outputs": [],
   "source": []
  }
 ],
 "metadata": {
  "kernelspec": {
   "display_name": "Python 3",
   "language": "python",
   "name": "python3"
  },
  "language_info": {
   "codemirror_mode": {
    "name": "ipython",
    "version": 3
   },
   "file_extension": ".py",
   "mimetype": "text/x-python",
   "name": "python",
   "nbconvert_exporter": "python",
   "pygments_lexer": "ipython3",
   "version": "3.8.3"
  }
 },
 "nbformat": 4,
 "nbformat_minor": 4
}
