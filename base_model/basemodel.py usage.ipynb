{
 "cells": [
  {
   "cell_type": "code",
   "execution_count": 1,
   "metadata": {},
   "outputs": [],
   "source": [
    "from basemodel import RHRAD_online"
   ]
  },
  {
   "cell_type": "code",
   "execution_count": 2,
   "metadata": {},
   "outputs": [],
   "source": [
    "# 2 csvs are created from constructing the RHRAD_online model:\n",
    "# 1. xxx_anomalies.csv -- holds datetimes (hours) of anomalous RHR readings\n",
    "# 2. xxx_alerts.csv -- holds datetimes (daily at 9pm) of health alerts\n",
    "\n",
    "# Note: If anomalies.csv is empty (the individual had no anomalies over the examined period), \n",
    "# alerts.csv will not be created\n",
    "# Also note: As is, this model is used for one individual's heartrate and steps csvs. \n",
    "\n",
    "# Case 1:\n",
    "# we are checking if individual AJWW3IY had any anomalies in the last day, using the 20 days or 480 hours\n",
    "# before that as a baseline. The output in this case is nothing to anomalies csv, and the alerts csv is not created.\n",
    "\n",
    "model1 = RHRAD_online(hr=\"data/AJWW3IY_hr.csv\", # path to heart rate csv\n",
    "                     steps=\"data/AJWW3IY_steps.csv\", # path to steps csv\n",
    "                     baseline_window=480, # number of hours to use as baseline (if baseline_window > data length, will fail)\n",
    "                     last_day_only=True, # if True, only the most recent day is checked for anomalous heartrates\n",
    "                     myphd_id_anomalies=\"results/AJWW3IY_anomalies.csv\", # where to put anomalies csv\n",
    "                     myphd_id_alerts = \"results/AJWW3IY_alerts.csv\", # where to put alerts csv\n",
    "                    )"
   ]
  },
  {
   "cell_type": "code",
   "execution_count": 3,
   "metadata": {},
   "outputs": [],
   "source": [
    "# Case 2:\n",
    "# we are checking if individual AHYIJDV had any anomalies starting 20 days after his data starts. \n",
    "# In this case, there should be anomalies and alerts recorded in the csv\n",
    "\n",
    "model2 = RHRAD_online(hr=\"data/AHYIJDV_hr.csv\", # path to heart rate csv\n",
    "                     steps=\"data/AHYIJDV_steps.csv\", # path to steps csv\n",
    "                     baseline_window=480, # number of hours to use as baseline (if baseline_window > data length, will fail)\n",
    "                     last_day_only=False, # if True, only the most recent day is checked for anomalous heartrates\n",
    "                     myphd_id_anomalies=\"results/AHYIJDV_anomalies-all.csv\", # where to put anomalies csv\n",
    "                     myphd_id_alerts = \"results/AHYIJDV_alerts-all.csv\", # where to put alerts csv\n",
    "                    )"
   ]
  },
  {
   "cell_type": "code",
   "execution_count": null,
   "metadata": {},
   "outputs": [],
   "source": [
    "# Case 3:\n",
    "# we are checking if individual AJWW3IY had any anomalies starting 31 days after his data starts. \n",
    "# In this case, the code fails because 31days=744hours is longer than the patient's collected data.\n",
    "\n",
    "model3 = RHRAD_online(hr=\"data/AJWW3IY_hr.csv\", # path to heart rate csv\n",
    "                     steps=\"data/AJWW3IY_steps.csv\", # path to steps csv\n",
    "                     baseline_window=744, # number of hours to use as baseline (if baseline_window > data length, will fail)\n",
    "                     last_day_only=False, # if True, only the most recent day is checked for anomalous heartrates\n",
    "                     myphd_id_anomalies=\"results/AJWW3IY_anomalies-all.csv\", # where to put anomalies csv\n",
    "                     myphd_id_alerts = \"results/AJWW3IY_alerts-all.csv\", # where to put alerts csv\n",
    "                    )"
   ]
  },
  {
   "cell_type": "code",
   "execution_count": null,
   "metadata": {},
   "outputs": [],
   "source": []
  }
 ],
 "metadata": {
  "kernelspec": {
   "display_name": "Python 3",
   "language": "python",
   "name": "python3"
  },
  "language_info": {
   "codemirror_mode": {
    "name": "ipython",
    "version": 3
   },
   "file_extension": ".py",
   "mimetype": "text/x-python",
   "name": "python",
   "nbconvert_exporter": "python",
   "pygments_lexer": "ipython3",
   "version": "3.8.3"
  }
 },
 "nbformat": 4,
 "nbformat_minor": 4
}
