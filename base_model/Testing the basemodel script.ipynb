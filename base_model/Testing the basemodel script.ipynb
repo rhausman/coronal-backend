{
 "cells": [
  {
   "cell_type": "code",
   "execution_count": 1,
   "metadata": {},
   "outputs": [],
   "source": [
    "from basemodel import RHRAD_online"
   ]
  },
  {
   "cell_type": "code",
   "execution_count": 2,
   "metadata": {},
   "outputs": [],
   "source": [
    "# 2 csvs are created from initialization:\n",
    "# 1. xxx_alerts.csv -- holds datetimes (daily at 9pm) of health alerts\n",
    "# 2. xxx_anomalies.csv -- holds datetimes (hours) of anomalous RHR readings\n",
    "\n",
    "model = RHRAD_online(hr=\"AHYIJDV_hr.csv\", # path to heart rate csv\n",
    "                     steps=\"AHYIJDV_steps.csv\", # path to steps csv\n",
    "                     baseline_window=480, # number of hours to use as baseline (if baseline_window > data length, will fail)\n",
    "                    )"
   ]
  },
  {
   "cell_type": "code",
   "execution_count": null,
   "metadata": {
    "scrolled": true
   },
   "outputs": [],
   "source": []
  },
  {
   "cell_type": "code",
   "execution_count": null,
   "metadata": {},
   "outputs": [],
   "source": []
  }
 ],
 "metadata": {
  "kernelspec": {
   "display_name": "Python 3",
   "language": "python",
   "name": "python3"
  },
  "language_info": {
   "codemirror_mode": {
    "name": "ipython",
    "version": 3
   },
   "file_extension": ".py",
   "mimetype": "text/x-python",
   "name": "python",
   "nbconvert_exporter": "python",
   "pygments_lexer": "ipython3",
   "version": "3.8.3"
  }
 },
 "nbformat": 4,
 "nbformat_minor": 4
}
