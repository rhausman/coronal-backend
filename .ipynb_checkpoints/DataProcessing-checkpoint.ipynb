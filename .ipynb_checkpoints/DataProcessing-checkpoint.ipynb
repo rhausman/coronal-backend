{
 "cells": [
  {
   "cell_type": "code",
   "execution_count": 10,
   "metadata": {},
   "outputs": [],
   "source": [
    "string = \"A06L7KF\\nA6GEBIK\\nARYB2QO\\nAMV7EQF\\nAL3KT5B\\nAOB9SON\\nAMQUHOQ\\nAWA2KJK\\nAOGFRXL\\nAFHOHOM\\nAHYIJDV\\nAFVAEC7\\nARFYLMK\\nAFEFA29\\nAZ2RYW7\\nAX6281V\\nAV2GF3B\\nAYEFCWQ\\nAXD3W8O\\nA3OU183\\nAE2B3RH\\nAXDWDEA\\nA4E0D03\\nAPGIB2T\\nAKXN5ZZ\\nAZKZ0AI\\nA65HVGP\\nAJWW3IY\\nA11SQQN\\nA45F9E6\\nAR4FPCC\\nA5XL2IC\\nA2D7K4A\\nAYVQUF1\\nAQC0L71\\nA8QLAB0\\nAQR8ZSS\\nAL48GP3\\nAX3KEW9\\nAPDJ1QP\\nAF3MXM1\\nARR2IKE\\nAAGTWZK\\nA1K5DRI\\nAKTGD8X\\nAOS4BSJ\\nAF8R0I6\\nA17YCA2\\nAGA8XUN\\nAOYM4KG\\nA91HEZV\\nASFODQR\\nA4G0044\\nA7EM0B6\\nA0NVTRV\\nAA2KP1S\\nAOQA85X\\nATHBFWX\\nAUILKHG\\nAEZDKVO\\nA35BJNV\\nAEOBCFJ\\nAYWIEKR\\nALZDAVZ\\nAO20DS4\\nAAXAA7Z\\nAIFDJZB\\nAK7YRBU\\nAKV66US\\nAY8TPMP\\nALKAXMZ\\nAD77K91\\nAQ25Y0L\\nA8CBEJZ\\nAPHNRSV\\nAFYLHG4\\nAGKI03N\\nAQ4TMLV\\nAJ0DKQ3\\nA7EAWA7\\nA0VFT1N\\nA2P3LTM\\nA11V1FH\\nAHP25OJ\\nAXCO7I9\\nAE0MQ94\\nAS2MVDL\\n\""
   ]
  },
  {
   "cell_type": "code",
   "execution_count": 16,
   "metadata": {
    "scrolled": true
   },
   "outputs": [
    {
     "name": "stdout",
     "output_type": "stream",
     "text": [
      "DataProcessing.ipynb  basemodel-WIP.ipynb   docker-compose.yml\r\n",
      "Dockerfile            \u001b[34mdata_cache\u001b[m\u001b[m/           poetry.lock\r\n",
      "README.md             database.csv          pyproject.toml\r\n",
      "api.py                database.xlsx         \u001b[34msaved_models\u001b[m\u001b[m/\r\n"
     ]
    }
   ],
   "source": [
    "ls"
   ]
  },
  {
   "cell_type": "code",
   "execution_count": 37,
   "metadata": {},
   "outputs": [],
   "source": [
    "import pandas as pd\n",
    "df = pd.read_csv(\"database.csv\", header = None)"
   ]
  },
  {
   "cell_type": "code",
   "execution_count": 72,
   "metadata": {},
   "outputs": [],
   "source": [
    "keys = string.split('\\n')\n",
    "keys = keys[:-1];\n",
    "df1 = pd.DataFrame(data = df[1].values, index = df[0])"
   ]
  },
  {
   "cell_type": "code",
   "execution_count": 73,
   "metadata": {
    "scrolled": true
   },
   "outputs": [
    {
     "data": {
      "text/html": [
       "<div>\n",
       "<style scoped>\n",
       "    .dataframe tbody tr th:only-of-type {\n",
       "        vertical-align: middle;\n",
       "    }\n",
       "\n",
       "    .dataframe tbody tr th {\n",
       "        vertical-align: top;\n",
       "    }\n",
       "\n",
       "    .dataframe thead th {\n",
       "        text-align: right;\n",
       "    }\n",
       "</style>\n",
       "<table border=\"1\" class=\"dataframe\">\n",
       "  <thead>\n",
       "    <tr style=\"text-align: right;\">\n",
       "      <th></th>\n",
       "      <th>0</th>\n",
       "    </tr>\n",
       "    <tr>\n",
       "      <th>0</th>\n",
       "      <th></th>\n",
       "    </tr>\n",
       "  </thead>\n",
       "  <tbody>\n",
       "    <tr>\n",
       "      <th>A06L7KF</th>\n",
       "      <td>potential.healthy</td>\n",
       "    </tr>\n",
       "    <tr>\n",
       "      <th>A6GEBIK</th>\n",
       "      <td>potential.healthy</td>\n",
       "    </tr>\n",
       "    <tr>\n",
       "      <th>A6GEBIK</th>\n",
       "      <td>potential.healthy</td>\n",
       "    </tr>\n",
       "    <tr>\n",
       "      <th>ARYB2QO</th>\n",
       "      <td>potential.healthy</td>\n",
       "    </tr>\n",
       "    <tr>\n",
       "      <th>ARYB2QO</th>\n",
       "      <td>potential.healthy</td>\n",
       "    </tr>\n",
       "    <tr>\n",
       "      <th>...</th>\n",
       "      <td>...</td>\n",
       "    </tr>\n",
       "    <tr>\n",
       "      <th>AE0MQ94</th>\n",
       "      <td>potential.healthy</td>\n",
       "    </tr>\n",
       "    <tr>\n",
       "      <th>AE0MQ94</th>\n",
       "      <td>potential.healthy</td>\n",
       "    </tr>\n",
       "    <tr>\n",
       "      <th>AE0MQ94</th>\n",
       "      <td>potential.healthy</td>\n",
       "    </tr>\n",
       "    <tr>\n",
       "      <th>AS2MVDL</th>\n",
       "      <td>COVID positive</td>\n",
       "    </tr>\n",
       "    <tr>\n",
       "      <th>AS2MVDL</th>\n",
       "      <td>COVID positive</td>\n",
       "    </tr>\n",
       "  </tbody>\n",
       "</table>\n",
       "<p>207 rows × 1 columns</p>\n",
       "</div>"
      ],
      "text/plain": [
       "                         0\n",
       "0                         \n",
       "A06L7KF  potential.healthy\n",
       "A6GEBIK  potential.healthy\n",
       "A6GEBIK  potential.healthy\n",
       "ARYB2QO  potential.healthy\n",
       "ARYB2QO  potential.healthy\n",
       "...                    ...\n",
       "AE0MQ94  potential.healthy\n",
       "AE0MQ94  potential.healthy\n",
       "AE0MQ94  potential.healthy\n",
       "AS2MVDL     COVID positive\n",
       "AS2MVDL     COVID positive\n",
       "\n",
       "[207 rows x 1 columns]"
      ]
     },
     "execution_count": 73,
     "metadata": {},
     "output_type": "execute_result"
    }
   ],
   "source": [
    "df1.loc[keys]"
   ]
  },
  {
   "cell_type": "code",
   "execution_count": 80,
   "metadata": {},
   "outputs": [],
   "source": [
    "data = df1[~df1.index.duplicated(keep='first')]"
   ]
  },
  {
   "cell_type": "code",
   "execution_count": 94,
   "metadata": {},
   "outputs": [],
   "source": [
    "valid_index = []; \n",
    "for i in range(len(data.index.values)):\n",
    "    if(data.index.values[i] in keys):\n",
    "        valid_index.append(i);"
   ]
  },
  {
   "cell_type": "code",
   "execution_count": 95,
   "metadata": {},
   "outputs": [],
   "source": [
    "data = data.iloc[valid_index]"
   ]
  },
  {
   "cell_type": "code",
   "execution_count": 97,
   "metadata": {},
   "outputs": [
    {
     "data": {
      "text/plain": [
       "array([['COVID positive'],\n",
       "       ['COVID positive'],\n",
       "       ['Other Illness'],\n",
       "       ['COVID positive'],\n",
       "       ['COVID positive'],\n",
       "       ['COVID positive'],\n",
       "       ['COVID positive'],\n",
       "       ['COVID positive'],\n",
       "       ['COVID positive'],\n",
       "       ['COVID positive'],\n",
       "       ['COVID positive'],\n",
       "       ['COVID positive'],\n",
       "       ['Other Illness'],\n",
       "       ['COVID positive'],\n",
       "       ['COVID positive'],\n",
       "       ['Other Illness'],\n",
       "       ['COVID positive'],\n",
       "       ['COVID positive'],\n",
       "       ['COVID positive'],\n",
       "       ['COVID positive'],\n",
       "       ['COVID positive'],\n",
       "       ['COVID positive'],\n",
       "       ['COVID positive'],\n",
       "       ['COVID positive'],\n",
       "       ['COVID positive'],\n",
       "       ['COVID positive'],\n",
       "       ['Other Illness'],\n",
       "       ['Other Illness'],\n",
       "       ['Other Illness'],\n",
       "       ['Other Illness'],\n",
       "       ['Other Illness'],\n",
       "       ['Other Illness'],\n",
       "       ['potential.healthy'],\n",
       "       ['potential.healthy'],\n",
       "       ['potential.healthy'],\n",
       "       ['potential.healthy'],\n",
       "       ['potential.healthy'],\n",
       "       ['potential.healthy'],\n",
       "       ['potential.healthy'],\n",
       "       ['potential.healthy'],\n",
       "       ['potential.healthy'],\n",
       "       ['potential.healthy'],\n",
       "       ['potential.healthy'],\n",
       "       ['potential.healthy'],\n",
       "       ['potential.healthy'],\n",
       "       ['potential.healthy'],\n",
       "       ['potential.healthy'],\n",
       "       ['potential.healthy'],\n",
       "       ['potential.healthy'],\n",
       "       ['potential.healthy'],\n",
       "       ['potential.healthy'],\n",
       "       ['potential.healthy'],\n",
       "       ['potential.healthy'],\n",
       "       ['potential.healthy'],\n",
       "       ['potential.healthy'],\n",
       "       ['potential.healthy'],\n",
       "       ['potential.healthy'],\n",
       "       ['potential.healthy'],\n",
       "       ['potential.healthy'],\n",
       "       ['potential.healthy'],\n",
       "       ['potential.healthy'],\n",
       "       ['potential.healthy'],\n",
       "       ['potential.healthy'],\n",
       "       ['potential.healthy'],\n",
       "       ['potential.healthy'],\n",
       "       ['potential.healthy'],\n",
       "       ['potential.healthy'],\n",
       "       ['potential.healthy'],\n",
       "       ['potential.healthy'],\n",
       "       ['potential.healthy'],\n",
       "       ['potential.healthy'],\n",
       "       ['potential.healthy'],\n",
       "       ['potential.healthy'],\n",
       "       ['potential.healthy'],\n",
       "       ['potential.healthy'],\n",
       "       ['potential.healthy'],\n",
       "       ['potential.healthy'],\n",
       "       ['potential.healthy'],\n",
       "       ['potential.healthy'],\n",
       "       ['potential.healthy'],\n",
       "       ['potential.healthy'],\n",
       "       ['potential.healthy'],\n",
       "       ['potential.healthy'],\n",
       "       ['potential.healthy'],\n",
       "       ['potential.healthy'],\n",
       "       ['potential.healthy'],\n",
       "       ['potential.healthy']], dtype=object)"
      ]
     },
     "execution_count": 97,
     "metadata": {},
     "output_type": "execute_result"
    }
   ],
   "source": [
    "data.values"
   ]
  }
 ],
 "metadata": {
  "kernelspec": {
   "display_name": "Python 3",
   "language": "python",
   "name": "python3"
  },
  "language_info": {
   "codemirror_mode": {
    "name": "ipython",
    "version": 3
   },
   "file_extension": ".py",
   "mimetype": "text/x-python",
   "name": "python",
   "nbconvert_exporter": "python",
   "pygments_lexer": "ipython3",
   "version": "3.7.2"
  }
 },
 "nbformat": 4,
 "nbformat_minor": 4
}
