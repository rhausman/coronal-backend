{
 "cells": [
  {
   "cell_type": "code",
   "execution_count": 1,
   "metadata": {},
   "outputs": [
    {
     "name": "stderr",
     "output_type": "stream",
     "text": [
      "/Users/pranikchainani/anaconda3/lib/python3.6/site-packages/tensorflow/python/framework/dtypes.py:519: FutureWarning: Passing (type, 1) or '1type' as a synonym of type is deprecated; in a future version of numpy, it will be understood as (type, (1,)) / '(1,)type'.\n",
      "  _np_qint8 = np.dtype([(\"qint8\", np.int8, 1)])\n",
      "/Users/pranikchainani/anaconda3/lib/python3.6/site-packages/tensorflow/python/framework/dtypes.py:520: FutureWarning: Passing (type, 1) or '1type' as a synonym of type is deprecated; in a future version of numpy, it will be understood as (type, (1,)) / '(1,)type'.\n",
      "  _np_quint8 = np.dtype([(\"quint8\", np.uint8, 1)])\n",
      "/Users/pranikchainani/anaconda3/lib/python3.6/site-packages/tensorflow/python/framework/dtypes.py:521: FutureWarning: Passing (type, 1) or '1type' as a synonym of type is deprecated; in a future version of numpy, it will be understood as (type, (1,)) / '(1,)type'.\n",
      "  _np_qint16 = np.dtype([(\"qint16\", np.int16, 1)])\n",
      "/Users/pranikchainani/anaconda3/lib/python3.6/site-packages/tensorflow/python/framework/dtypes.py:522: FutureWarning: Passing (type, 1) or '1type' as a synonym of type is deprecated; in a future version of numpy, it will be understood as (type, (1,)) / '(1,)type'.\n",
      "  _np_quint16 = np.dtype([(\"quint16\", np.uint16, 1)])\n",
      "/Users/pranikchainani/anaconda3/lib/python3.6/site-packages/tensorflow/python/framework/dtypes.py:523: FutureWarning: Passing (type, 1) or '1type' as a synonym of type is deprecated; in a future version of numpy, it will be understood as (type, (1,)) / '(1,)type'.\n",
      "  _np_qint32 = np.dtype([(\"qint32\", np.int32, 1)])\n",
      "/Users/pranikchainani/anaconda3/lib/python3.6/site-packages/tensorflow/python/framework/dtypes.py:528: FutureWarning: Passing (type, 1) or '1type' as a synonym of type is deprecated; in a future version of numpy, it will be understood as (type, (1,)) / '(1,)type'.\n",
      "  np_resource = np.dtype([(\"resource\", np.ubyte, 1)])\n",
      "\n",
      "Bad key text.latex.unicode in file /Users/pranikchainani/anaconda3/lib/python3.6/site-packages/matplotlib/mpl-data/stylelib/_classic_test.mplstyle, line 112 ('text.latex.unicode : False # use \"ucs\" and \"inputenc\" LaTeX packages for handling')\n",
      "You probably need to get an updated matplotlibrc file from\n",
      "https://github.com/matplotlib/matplotlib/blob/v3.3.2/matplotlibrc.template\n",
      "or from the matplotlib source distribution\n",
      "\n",
      "Bad key savefig.frameon in file /Users/pranikchainani/anaconda3/lib/python3.6/site-packages/matplotlib/mpl-data/stylelib/_classic_test.mplstyle, line 423 ('savefig.frameon : True')\n",
      "You probably need to get an updated matplotlibrc file from\n",
      "https://github.com/matplotlib/matplotlib/blob/v3.3.2/matplotlibrc.template\n",
      "or from the matplotlib source distribution\n",
      "\n",
      "Bad key pgf.debug in file /Users/pranikchainani/anaconda3/lib/python3.6/site-packages/matplotlib/mpl-data/stylelib/_classic_test.mplstyle, line 444 ('pgf.debug           : False')\n",
      "You probably need to get an updated matplotlibrc file from\n",
      "https://github.com/matplotlib/matplotlib/blob/v3.3.2/matplotlibrc.template\n",
      "or from the matplotlib source distribution\n",
      "\n",
      "Bad key verbose.level in file /Users/pranikchainani/anaconda3/lib/python3.6/site-packages/matplotlib/mpl-data/stylelib/_classic_test.mplstyle, line 475 ('verbose.level  : silent      # one of silent, helpful, debug, debug-annoying')\n",
      "You probably need to get an updated matplotlibrc file from\n",
      "https://github.com/matplotlib/matplotlib/blob/v3.3.2/matplotlibrc.template\n",
      "or from the matplotlib source distribution\n",
      "\n",
      "Bad key verbose.fileo in file /Users/pranikchainani/anaconda3/lib/python3.6/site-packages/matplotlib/mpl-data/stylelib/_classic_test.mplstyle, line 476 ('verbose.fileo  : sys.stdout  # a log filename, sys.stdout or sys.stderr')\n",
      "You probably need to get an updated matplotlibrc file from\n",
      "https://github.com/matplotlib/matplotlib/blob/v3.3.2/matplotlibrc.template\n",
      "or from the matplotlib source distribution\n",
      "In /Users/pranikchainani/anaconda3/lib/python3.6/site-packages/matplotlib/mpl-data/stylelib/_classic_test.mplstyle: \n",
      "The text.latex.preview rcparam was deprecated in Matplotlib 3.3 and will be removed two minor releases later.\n",
      "In /Users/pranikchainani/anaconda3/lib/python3.6/site-packages/matplotlib/mpl-data/stylelib/_classic_test.mplstyle: \n",
      "The mathtext.fallback_to_cm rcparam was deprecated in Matplotlib 3.3 and will be removed two minor releases later.\n",
      "In /Users/pranikchainani/anaconda3/lib/python3.6/site-packages/matplotlib/mpl-data/stylelib/_classic_test.mplstyle: Support for setting the 'mathtext.fallback_to_cm' rcParam is deprecated since 3.3 and will be removed two minor releases later; use 'mathtext.fallback : 'cm' instead.\n",
      "In /Users/pranikchainani/anaconda3/lib/python3.6/site-packages/matplotlib/mpl-data/stylelib/_classic_test.mplstyle: \n",
      "The validate_bool_maybe_none function was deprecated in Matplotlib 3.3 and will be removed two minor releases later.\n",
      "In /Users/pranikchainani/anaconda3/lib/python3.6/site-packages/matplotlib/mpl-data/stylelib/_classic_test.mplstyle: \n",
      "The savefig.jpeg_quality rcparam was deprecated in Matplotlib 3.3 and will be removed two minor releases later.\n",
      "In /Users/pranikchainani/anaconda3/lib/python3.6/site-packages/matplotlib/mpl-data/stylelib/_classic_test.mplstyle: \n",
      "The keymap.all_axes rcparam was deprecated in Matplotlib 3.3 and will be removed two minor releases later.\n",
      "In /Users/pranikchainani/anaconda3/lib/python3.6/site-packages/matplotlib/mpl-data/stylelib/_classic_test.mplstyle: \n",
      "The animation.avconv_path rcparam was deprecated in Matplotlib 3.3 and will be removed two minor releases later.\n",
      "In /Users/pranikchainani/anaconda3/lib/python3.6/site-packages/matplotlib/mpl-data/stylelib/_classic_test.mplstyle: \n",
      "The animation.avconv_args rcparam was deprecated in Matplotlib 3.3 and will be removed two minor releases later.\n"
     ]
    }
   ],
   "source": [
    "import numpy as np\n",
    "import pandas as pd\n",
    "import tensorflow as tf\n",
    "import matplotlib.pyplot as plt\n",
    "from statsmodels.tsa.seasonal import seasonal_decompose\n",
    "from sklearn.preprocessing import StandardScaler"
   ]
  },
  {
   "cell_type": "code",
   "execution_count": 2,
   "metadata": {},
   "outputs": [],
   "source": [
    "def resting_heart_rate(heart_rate, steps):\n",
    "    df_hr = pd.read_csv(heart_rate)\n",
    "    df_hr = df_hr.set_index('datetime')\n",
    "    df_hr.index.name = None\n",
    "    df_hr.index = pd.to_datetime(df_hr.index)\n",
    "\n",
    "    # steps data\n",
    "    df_steps = pd.read_csv(steps)\n",
    "    df_steps = df_steps.set_index('datetime')\n",
    "    df_steps.index.name = None\n",
    "    df_steps.index = pd.to_datetime(df_steps.index)\n",
    "\n",
    "    # merge heartrate and steps\n",
    "    df1 = pd.merge(df_hr, df_steps, left_index=True, right_index=True)\n",
    "    df1 = df1.resample('1min').mean() # resample to 1min resolution\n",
    "    df1 = df1.dropna()\n",
    "\n",
    "    # define RHR as the HR measurements recorded when there were zero steps taken during a rolling time window of the preceding 12 minutes (including the current minute)\n",
    "    df1['steps_window_12'] = df1['steps'].rolling(12).sum()\n",
    "    df1 = df1.loc[(df1['steps_window_12'] == 0)]\n",
    "    \n",
    "    return df1"
   ]
  },
  {
   "cell_type": "code",
   "execution_count": 3,
   "metadata": {},
   "outputs": [],
   "source": [
    "from os import listdir\n",
    "from os.path import isfile, join\n",
    "onlyfiles = [f for f in listdir(\"./COVID-19-Wearables/\") if isfile(join(\"./COVID-19-Wearables/\", f))]"
   ]
  },
  {
   "cell_type": "code",
   "execution_count": 145,
   "metadata": {},
   "outputs": [],
   "source": [
    "filenames = []\n",
    "for filename in onlyfiles:\n",
    "    filenames.append(filename.split(\".\")[0])"
   ]
  },
  {
   "cell_type": "code",
   "execution_count": 146,
   "metadata": {},
   "outputs": [],
   "source": [
    "curr_filenames = []\n",
    "invalid_files = ['AJWW3IY', 'AOYM4KG', 'A0VFT1N', 'A4G0044', 'AA2KP1S', 'AYWIEKR',\n",
    "       'A1K5DRI', 'AAXAA7Z', 'AIFDJZB', 'AKXN5ZZ', 'AMV7EQF', 'A7EM0B6',\n",
    "       'AYEFCWQ', 'A3OU183', 'AX6281V', 'A4E0D03', 'AS2MVDL', 'ASFODQR',\n",
    "       'A0NVTRV', 'AHYIJDV', 'AQC0L71', 'AV2GF3B', 'APGIB2T', 'A3ADWUT']\n",
    "for filename in filenames:\n",
    "    if filename.split(\"_\")[0] not in invalid_files:\n",
    "        curr_filenames.append(filename)\n",
    "filenames = curr_filenames"
   ]
  },
  {
   "cell_type": "code",
   "execution_count": 149,
   "metadata": {},
   "outputs": [],
   "source": [
    "hr_names = []\n",
    "steps_names = []\n",
    "\n",
    "for file in filenames:\n",
    "    if \"hr\" in file:\n",
    "        hr_names.append(file)\n",
    "    elif \"steps\" in file:\n",
    "        steps_names.append(file)"
   ]
  },
  {
   "cell_type": "code",
   "execution_count": 150,
   "metadata": {},
   "outputs": [],
   "source": [
    "hr_files = sorted(hr_files)\n",
    "steps_files = sorted(steps_files)"
   ]
  },
  {
   "cell_type": "code",
   "execution_count": 215,
   "metadata": {},
   "outputs": [],
   "source": [
    "# Pre-processing ------------------------------------------------------\n",
    "def pre_processing(resting_heart_rate):\n",
    "    \"\"\"\n",
    "    This function takes resting heart rate data and applies moving averages to smooth the data and \n",
    "    downsamples to one hour by taking the avegare values\n",
    "    \"\"\"\n",
    "    df1 = resting_heart_rate\n",
    "\n",
    "    # smooth data\n",
    "    df_nonas = df1.dropna()\n",
    "    #df1_rom = df_nonas.rolling(400).mean()\n",
    "    # resample\n",
    "    df1_resmp = df_nonas.resample('1H').mean()\n",
    "    df2 = df1_resmp.drop(['steps', 'steps_window_12'], axis=1)\n",
    "    df2 = df2.dropna()\n",
    "    return df2\n",
    "\n",
    "# Seasonality correction ------------------------------------------------------\n",
    "def seasonality_correction(resting_heart_rate):\n",
    "    \"\"\"\n",
    "    This function takes output pre-processing and applies seasonality correction\n",
    "    \"\"\"\n",
    "    sdHR = resting_heart_rate\n",
    "\n",
    "    sdHR_decomposition = seasonal_decompose(sdHR, model='additive', freq=1)\n",
    "    sdHR_decomp = pd.DataFrame(sdHR_decomposition.resid + sdHR_decomposition.trend)\n",
    "    sdHR_decomp.rename(columns={sdHR_decomp.columns[0]:'heartrate'}, inplace=True)\n",
    "\n",
    "    return sdHR_decomp"
   ]
  },
  {
   "cell_type": "code",
   "execution_count": 216,
   "metadata": {},
   "outputs": [],
   "source": [
    "hr_names = sorted(hr_names)\n",
    "steps_names = sorted(steps_names)"
   ]
  },
  {
   "cell_type": "code",
   "execution_count": 217,
   "metadata": {},
   "outputs": [
    {
     "name": "stdout",
     "output_type": "stream",
     "text": [
      "A06L7KF_hr A06L7KF_steps 0\n",
      "A0822M0_hr A0822M0_steps 1\n",
      "A0KX894_hr A0KX894_steps 2\n",
      "A0L9BM2_hr A0L9BM2_steps 3\n",
      "A0N9NV4_hr A0N9NV4_steps 4\n",
      "A11SQQN_hr A11SQQN_steps 5\n",
      "A11V1FH_hr A11V1FH_steps 6\n",
      "A17YCA2_hr A17YCA2_steps 7\n",
      "A1ZJ41O_hr A1ZJ41O_steps 8\n",
      "A2D7K4A_hr A2D7K4A_steps 9\n",
      "A2P3LTM_hr A2P3LTM_steps 10\n",
      "A2XFW2N_hr A2XFW2N_steps 11\n",
      "A35BJNV_hr A35BJNV_steps 12\n",
      "A36HR6Y_hr A36HR6Y_steps 13\n",
      "A45F9E6_hr A45F9E6_steps 14\n",
      "A4H7SNF_hr A4H7SNF_steps 15\n",
      "A5XL2IC_hr A5XL2IC_steps 16\n",
      "A65HVGP_hr A65HVGP_steps 17\n",
      "A6BUI4N_hr A6BUI4N_steps 18\n",
      "A6GEBIK_hr A6GEBIK_steps 19\n",
      "A7EAWA7_hr A7EAWA7_steps 20\n",
      "A8CBEJZ_hr A8CBEJZ_steps 21\n",
      "A8QLAB0_hr A8QLAB0_steps 22\n",
      "A91HEZV_hr A91HEZV_steps 23\n",
      "A99ZKKW_hr A99ZKKW_steps 24\n",
      "A9ZG5GR_hr A9ZG5GR_steps 25\n",
      "AA0HAI1_1_hr AA0HAI1_1_steps 26\n",
      "AA0HAI1_2_hr AA0HAI1_2_steps 27\n",
      "AA0HAI1_3_hr AA0HAI1_3_steps 28\n",
      "AAF9ACE_hr AAF9ACE_steps 29\n",
      "AAGTWZK_hr AAGTWZK_steps 30\n",
      "AD77K91_hr AD77K91_steps 31\n",
      "AE0MQ94_hr AE0MQ94_steps 32\n",
      "AE2B3RH_hr AE2B3RH_steps 33\n",
      "AEOBCFJ_hr AEOBCFJ_steps 34\n",
      "AEOHH30_hr AEOHH30_steps 35\n",
      "AEZDKVO_hr AEZDKVO_steps 36\n",
      "AF3J1YC_hr AF3J1YC_steps 37\n",
      "AF3MXM1_hr AF3MXM1_steps 38\n",
      "AF8R0I6_hr AF8R0I6_steps 39\n",
      "AFEFA29_hr AFEFA29_steps 40\n",
      "AFHOHOM_hr AFHOHOM_steps 41\n",
      "AFPB8J2_hr AFPB8J2_steps 42\n",
      "AFVAEC7_hr AFVAEC7_steps 43\n",
      "AFYLHG4_hr AFYLHG4_steps 44\n",
      "AGA8XUN_hr AGA8XUN_steps 45\n",
      "AGKI03N_hr AGKI03N_steps 46\n",
      "AGYQJEL_hr AGYQJEL_steps 47\n",
      "AHP25OJ_hr AHP25OJ_steps 48\n",
      "AHYR55C_hr AHYR55C_steps 49\n",
      "AJ0DKQ3_hr AJ0DKQ3_steps 50\n",
      "AJ7TSV9_hr AJ7TSV9_steps 51\n",
      "AJMQUVV_hr AJMQUVV_steps 52\n",
      "AK7YRBU_hr AK7YRBU_steps 53\n",
      "AKTGD8X_hr AKTGD8X_steps 54\n",
      "AKV66US_hr AKV66US_steps 55\n",
      "AL3KT5B_hr AL3KT5B_steps 56\n",
      "AL48GP3_hr AL48GP3_steps 57\n",
      "ALKAXMZ_hr ALKAXMZ_steps 58\n",
      "ALZDAVZ_hr ALZDAVZ_steps 59\n",
      "AMQUHOQ_hr AMQUHOQ_steps 60\n",
      "AO20DS4_hr AO20DS4_steps 61\n",
      "AOB9SON_hr AOB9SON_steps 62\n",
      "AOGFRXL_hr AOGFRXL_steps 63\n",
      "AOQA85X_hr AOQA85X_steps 64\n",
      "AOS4BSJ_hr AOS4BSJ_steps 65\n",
      "APDJ1QP_hr APDJ1QP_steps 66\n",
      "APHNRSV_hr APHNRSV_steps 67\n",
      "AQ25Y0L_hr AQ25Y0L_steps 68\n",
      "AQ4TMLV_hr AQ4TMLV_steps 69\n",
      "AQR8ZSS_hr AQR8ZSS_steps 70\n",
      "AR4FPCC_hr AR4FPCC_steps 71\n",
      "ARFYLMK_hr ARFYLMK_steps 72\n",
      "ARR2IKE_hr ARR2IKE_steps 73\n",
      "ARYB2QO_hr ARYB2QO_steps 74\n",
      "ATHBFWX_hr ATHBFWX_steps 75\n",
      "ATHKM6V_hr ATHKM6V_steps 76\n",
      "ATT9RR1_hr ATT9RR1_steps 77\n",
      "AUCGUF3_hr AUCGUF3_steps 78\n",
      "AUILKHG_hr AUILKHG_steps 79\n",
      "AURCTAK_hr AURCTAK_steps 80\n",
      "AUY8KYW_hr AUY8KYW_steps 81\n",
      "AW4EXXK_hr AW4EXXK_steps 82\n",
      "AWA2KJK_hr AWA2KJK_steps 83\n",
      "AWRBUQZ_hr AWRBUQZ_steps 84\n",
      "AX3KEW9_hr AX3KEW9_steps 85\n",
      "AXCO7I9_hr AXCO7I9_steps 86\n",
      "AXD3W8O_hr AXD3W8O_steps 87\n",
      "AXDWDEA_hr AXDWDEA_steps 88\n",
      "AXI1PBS_hr AXI1PBS_steps 89\n",
      "AY8TPMP_hr AY8TPMP_steps 90\n",
      "AYVQUF1_hr AYVQUF1_steps 91\n",
      "AZ2RYW7_hr AZ2RYW7_steps 92\n",
      "AZ35PI5_hr AZ35PI5_steps 93\n",
      "AZIK4ZA_hr AZIK4ZA_steps 94\n",
      "AZKZ0AI_hr AZKZ0AI_steps 95\n"
     ]
    }
   ],
   "source": [
    "data_set = []\n",
    "\n",
    "for i in range(len(hr_names)):\n",
    "    hr_csv = \"./COVID-19-Wearables/\" + hr_names[i] + \".csv\"\n",
    "    steps_csv = \"./COVID-19-Wearables/\" + steps_names[i] + \".csv\"\n",
    "    print(hr_names[i], steps_names[i], i)\n",
    "    \n",
    "    current_df = resting_heart_rate(hr_csv, steps_csv) + 0.1\n",
    "    processed_df = seasonality_correction(pre_processing(current_df))\n",
    "    \n",
    "    standardizer = StandardScaler().fit(processed_df.values)\n",
    "    data_train_scaled = standardizer.transform(processed_df.values)\n",
    "    \n",
    "    data_set.append(data_train_scaled)"
   ]
  },
  {
   "cell_type": "code",
   "execution_count": 233,
   "metadata": {},
   "outputs": [
    {
     "data": {
      "text/plain": [
       "(77487, 1)"
      ]
     },
     "execution_count": 233,
     "metadata": {},
     "output_type": "execute_result"
    }
   ],
   "source": [
    "combined_data = np.vstack(data_set); combined_data.shape"
   ]
  },
  {
   "cell_type": "code",
   "execution_count": 261,
   "metadata": {},
   "outputs": [
    {
     "data": {
      "image/png": "[encoded data removed]",
      "text/plain": [
       "<Figure size 1152x648 with 5 Axes>"
      ]
     },
     "metadata": {},
     "output_type": "display_data"
    }
   ],
   "source": [
    "plt.figure(figsize=(16, 9))\n",
    "for i in range(5):\n",
    "    randindex = np.random.randint(len(data_set))\n",
    "    plt.subplot(5, 1, i+1)\n",
    "    plt.xlabel(\"Last 15 Hours\")\n",
    "    if i == 0:\n",
    "        plt.ylabel(\"Resting_Heart_Rate\")\n",
    "    plt.plot(np.arange(0, len(data_set[randindex][-15:])), data_set[randindex][-15:])"
   ]
  },
  {
   "cell_type": "code",
   "execution_count": 281,
   "metadata": {},
   "outputs": [],
   "source": [
    "window_size = 15\n",
    "input_arr = []\n",
    "output_arr = []\n",
    "for i in range(0, len(combined_data)-15, 15):\n",
    "    curr_input = []\n",
    "    for j in range(window_size-1):\n",
    "        curr_input.append(combined_data[i+j])\n",
    "    input_arr.append(curr_input)\n",
    "    output_arr.append(combined_data[i+j+1])"
   ]
  },
  {
   "cell_type": "code",
   "execution_count": 286,
   "metadata": {},
   "outputs": [
    {
     "data": {
      "text/plain": [
       "(5165, 14, 1)"
      ]
     },
     "execution_count": 286,
     "metadata": {},
     "output_type": "execute_result"
    }
   ],
   "source": [
    "input_arr = np.array(input_arr); input_arr.shape"
   ]
  },
  {
   "cell_type": "code",
   "execution_count": 289,
   "metadata": {},
   "outputs": [
    {
     "data": {
      "text/plain": [
       "(5165, 1)"
      ]
     },
     "execution_count": 289,
     "metadata": {},
     "output_type": "execute_result"
    }
   ],
   "source": [
    "output_arr = np.array(output_arr); output_arr.shape"
   ]
  },
  {
   "cell_type": "code",
   "execution_count": 346,
   "metadata": {},
   "outputs": [],
   "source": [
    "train_input = input_arr[:3000]\n",
    "train_output = output_arr[:3000]"
   ]
  },
  {
   "cell_type": "code",
   "execution_count": 362,
   "metadata": {},
   "outputs": [],
   "source": [
    "MAX_EPOCHS = 100\n",
    "\n",
    "def compile_and_fit(model, input_mat, output_mat, patience=2):\n",
    "    early_stopping = tf.keras.callbacks.EarlyStopping(monitor='val_loss',\n",
    "                                                    patience=patience,\n",
    "                                                    mode='min')\n",
    "\n",
    "    model.compile(loss='mse',\n",
    "                optimizer='Adam',\n",
    "                metrics=['mae'])\n",
    "\n",
    "    history = model.fit(x=input_mat, y=output_mat, epochs=MAX_EPOCHS)\n",
    "    return history"
   ]
  },
  {
   "cell_type": "code",
   "execution_count": 363,
   "metadata": {},
   "outputs": [
    {
     "name": "stdout",
     "output_type": "stream",
     "text": [
      "Epoch 1/100\n",
      "3000/3000 [==============================] - 1s 274us/step - loss: 0.8124 - mean_absolute_error: 0.6534\n",
      "Epoch 2/100\n",
      "3000/3000 [==============================] - 0s 78us/step - loss: 0.7413 - mean_absolute_error: 0.6071\n",
      "Epoch 3/100\n",
      "3000/3000 [==============================] - 0s 74us/step - loss: 0.7171 - mean_absolute_error: 0.5986\n",
      "Epoch 4/100\n",
      "3000/3000 [==============================] - 0s 74us/step - loss: 0.7028 - mean_absolute_error: 0.5939\n",
      "Epoch 5/100\n",
      "3000/3000 [==============================] - 0s 72us/step - loss: 0.6889 - mean_absolute_error: 0.5828\n",
      "Epoch 6/100\n",
      "3000/3000 [==============================] - 0s 104us/step - loss: 0.6846 - mean_absolute_error: 0.5837\n",
      "Epoch 7/100\n",
      "3000/3000 [==============================] - 0s 74us/step - loss: 0.6708 - mean_absolute_error: 0.5781\n",
      "Epoch 8/100\n",
      "3000/3000 [==============================] - 0s 81us/step - loss: 0.6723 - mean_absolute_error: 0.5792\n",
      "Epoch 9/100\n",
      "3000/3000 [==============================] - 0s 76us/step - loss: 0.6574 - mean_absolute_error: 0.5730\n",
      "Epoch 10/100\n",
      "3000/3000 [==============================] - 0s 152us/step - loss: 0.6383 - mean_absolute_error: 0.5666\n",
      "Epoch 11/100\n",
      "3000/3000 [==============================] - 0s 111us/step - loss: 0.6244 - mean_absolute_error: 0.5618\n",
      "Epoch 12/100\n",
      "3000/3000 [==============================] - 0s 81us/step - loss: 0.6192 - mean_absolute_error: 0.5585\n",
      "Epoch 13/100\n",
      "3000/3000 [==============================] - 0s 74us/step - loss: 0.6100 - mean_absolute_error: 0.5567\n",
      "Epoch 14/100\n",
      "3000/3000 [==============================] - 0s 118us/step - loss: 0.5979 - mean_absolute_error: 0.5494\n",
      "Epoch 15/100\n",
      "3000/3000 [==============================] - 0s 101us/step - loss: 0.5799 - mean_absolute_error: 0.5447\n",
      "Epoch 16/100\n",
      "3000/3000 [==============================] - 0s 88us/step - loss: 0.5688 - mean_absolute_error: 0.5358\n",
      "Epoch 17/100\n",
      "3000/3000 [==============================] - 0s 101us/step - loss: 0.5587 - mean_absolute_error: 0.5381\n",
      "Epoch 18/100\n",
      "3000/3000 [==============================] - 0s 98us/step - loss: 0.5576 - mean_absolute_error: 0.5357\n",
      "Epoch 19/100\n",
      "3000/3000 [==============================] - 0s 79us/step - loss: 0.5391 - mean_absolute_error: 0.5271\n",
      "Epoch 20/100\n",
      "3000/3000 [==============================] - 0s 87us/step - loss: 0.5323 - mean_absolute_error: 0.5260\n",
      "Epoch 21/100\n",
      "3000/3000 [==============================] - 0s 85us/step - loss: 0.5324 - mean_absolute_error: 0.5260\n",
      "Epoch 22/100\n",
      "3000/3000 [==============================] - 0s 111us/step - loss: 0.5146 - mean_absolute_error: 0.5185\n",
      "Epoch 23/100\n",
      "3000/3000 [==============================] - 0s 77us/step - loss: 0.5125 - mean_absolute_error: 0.5169\n",
      "Epoch 24/100\n",
      "3000/3000 [==============================] - 0s 76us/step - loss: 0.4920 - mean_absolute_error: 0.5087\n",
      "Epoch 25/100\n",
      "3000/3000 [==============================] - 0s 81us/step - loss: 0.4822 - mean_absolute_error: 0.5054\n",
      "Epoch 26/100\n",
      "3000/3000 [==============================] - 0s 101us/step - loss: 0.4831 - mean_absolute_error: 0.5049\n",
      "Epoch 27/100\n",
      "3000/3000 [==============================] - 0s 110us/step - loss: 0.4666 - mean_absolute_error: 0.4991\n",
      "Epoch 28/100\n",
      "3000/3000 [==============================] - 0s 93us/step - loss: 0.4525 - mean_absolute_error: 0.4905: 0s - loss: 0.4502 - mean_absolute_error: 0.487\n",
      "Epoch 29/100\n",
      "3000/3000 [==============================] - 0s 68us/step - loss: 0.4541 - mean_absolute_error: 0.4935\n",
      "Epoch 30/100\n",
      "3000/3000 [==============================] - 0s 69us/step - loss: 0.4385 - mean_absolute_error: 0.4813\n",
      "Epoch 31/100\n",
      "3000/3000 [==============================] - 0s 100us/step - loss: 0.4216 - mean_absolute_error: 0.4731\n",
      "Epoch 32/100\n",
      "3000/3000 [==============================] - 0s 104us/step - loss: 0.4214 - mean_absolute_error: 0.4760\n",
      "Epoch 33/100\n",
      "3000/3000 [==============================] - 0s 86us/step - loss: 0.4155 - mean_absolute_error: 0.4725\n",
      "Epoch 34/100\n",
      "3000/3000 [==============================] - 0s 69us/step - loss: 0.4007 - mean_absolute_error: 0.4644\n",
      "Epoch 35/100\n",
      "3000/3000 [==============================] - 0s 67us/step - loss: 0.3929 - mean_absolute_error: 0.4604\n",
      "Epoch 36/100\n",
      "3000/3000 [==============================] - 0s 94us/step - loss: 0.3851 - mean_absolute_error: 0.4554: 0s - loss: 0.3964 - mean_absolute_error: 0.4\n",
      "Epoch 37/100\n",
      "3000/3000 [==============================] - 0s 91us/step - loss: 0.3811 - mean_absolute_error: 0.4531\n",
      "Epoch 38/100\n",
      "3000/3000 [==============================] - 0s 77us/step - loss: 0.3745 - mean_absolute_error: 0.4506\n",
      "Epoch 39/100\n",
      "3000/3000 [==============================] - 0s 121us/step - loss: 0.3689 - mean_absolute_error: 0.4493\n",
      "Epoch 40/100\n",
      "3000/3000 [==============================] - 0s 87us/step - loss: 0.3687 - mean_absolute_error: 0.4496\n",
      "Epoch 41/100\n",
      "3000/3000 [==============================] - 0s 75us/step - loss: 0.3586 - mean_absolute_error: 0.4377\n",
      "Epoch 42/100\n",
      "3000/3000 [==============================] - 0s 111us/step - loss: 0.3508 - mean_absolute_error: 0.4360\n",
      "Epoch 43/100\n",
      "3000/3000 [==============================] - 0s 68us/step - loss: 0.3414 - mean_absolute_error: 0.4332\n",
      "Epoch 44/100\n",
      "3000/3000 [==============================] - 0s 67us/step - loss: 0.3335 - mean_absolute_error: 0.4237\n",
      "Epoch 45/100\n",
      "3000/3000 [==============================] - 0s 74us/step - loss: 0.3342 - mean_absolute_error: 0.4272\n",
      "Epoch 46/100\n",
      "3000/3000 [==============================] - 0s 68us/step - loss: 0.3253 - mean_absolute_error: 0.4207\n",
      "Epoch 47/100\n",
      "3000/3000 [==============================] - 0s 68us/step - loss: 0.3246 - mean_absolute_error: 0.4224\n",
      "Epoch 48/100\n",
      "3000/3000 [==============================] - 0s 71us/step - loss: 0.3229 - mean_absolute_error: 0.4205\n",
      "Epoch 49/100\n",
      "3000/3000 [==============================] - 0s 68us/step - loss: 0.3099 - mean_absolute_error: 0.4118\n",
      "Epoch 50/100\n",
      "3000/3000 [==============================] - 0s 67us/step - loss: 0.3044 - mean_absolute_error: 0.4047\n",
      "Epoch 51/100\n",
      "3000/3000 [==============================] - 0s 67us/step - loss: 0.2991 - mean_absolute_error: 0.4069\n",
      "Epoch 52/100\n",
      "3000/3000 [==============================] - 0s 72us/step - loss: 0.2951 - mean_absolute_error: 0.4005\n",
      "Epoch 53/100\n",
      "3000/3000 [==============================] - 0s 63us/step - loss: 0.2976 - mean_absolute_error: 0.4057\n",
      "Epoch 54/100\n",
      "3000/3000 [==============================] - 0s 65us/step - loss: 0.2874 - mean_absolute_error: 0.3929\n",
      "Epoch 55/100\n",
      "3000/3000 [==============================] - 0s 63us/step - loss: 0.2846 - mean_absolute_error: 0.3941\n",
      "Epoch 56/100\n",
      "3000/3000 [==============================] - 0s 66us/step - loss: 0.2892 - mean_absolute_error: 0.3996\n",
      "Epoch 57/100\n",
      "3000/3000 [==============================] - 0s 63us/step - loss: 0.2720 - mean_absolute_error: 0.3856\n",
      "Epoch 58/100\n",
      "3000/3000 [==============================] - 0s 64us/step - loss: 0.2669 - mean_absolute_error: 0.3837\n",
      "Epoch 59/100\n",
      "3000/3000 [==============================] - 0s 71us/step - loss: 0.2659 - mean_absolute_error: 0.3801\n",
      "Epoch 60/100\n",
      "3000/3000 [==============================] - 0s 66us/step - loss: 0.2620 - mean_absolute_error: 0.3784\n",
      "Epoch 61/100\n",
      "3000/3000 [==============================] - 0s 78us/step - loss: 0.2638 - mean_absolute_error: 0.3796\n",
      "Epoch 62/100\n",
      "3000/3000 [==============================] - 0s 78us/step - loss: 0.2617 - mean_absolute_error: 0.3786\n",
      "Epoch 63/100\n",
      "3000/3000 [==============================] - 0s 79us/step - loss: 0.2585 - mean_absolute_error: 0.3739\n",
      "Epoch 64/100\n",
      "3000/3000 [==============================] - 0s 67us/step - loss: 0.2572 - mean_absolute_error: 0.3766\n",
      "Epoch 65/100\n",
      "3000/3000 [==============================] - 0s 71us/step - loss: 0.2441 - mean_absolute_error: 0.3631: 0s - loss: 0.2425 - mean_absolute_error: 0.3\n",
      "Epoch 66/100\n",
      "3000/3000 [==============================] - 0s 66us/step - loss: 0.2414 - mean_absolute_error: 0.3636\n",
      "Epoch 67/100\n",
      "3000/3000 [==============================] - 0s 78us/step - loss: 0.2351 - mean_absolute_error: 0.3594\n",
      "Epoch 68/100\n",
      "3000/3000 [==============================] - 0s 97us/step - loss: 0.2291 - mean_absolute_error: 0.3530\n",
      "Epoch 69/100\n",
      "3000/3000 [==============================] - 0s 65us/step - loss: 0.2341 - mean_absolute_error: 0.3574\n",
      "Epoch 70/100\n"
     ]
    },
    {
     "name": "stdout",
     "output_type": "stream",
     "text": [
      "3000/3000 [==============================] - 0s 81us/step - loss: 0.2293 - mean_absolute_error: 0.3562\n",
      "Epoch 71/100\n",
      "3000/3000 [==============================] - 0s 71us/step - loss: 0.2150 - mean_absolute_error: 0.3426\n",
      "Epoch 72/100\n",
      "3000/3000 [==============================] - 0s 62us/step - loss: 0.2165 - mean_absolute_error: 0.3456\n",
      "Epoch 73/100\n",
      "3000/3000 [==============================] - 0s 68us/step - loss: 0.2134 - mean_absolute_error: 0.3393\n",
      "Epoch 74/100\n",
      "3000/3000 [==============================] - 0s 73us/step - loss: 0.2169 - mean_absolute_error: 0.3460\n",
      "Epoch 75/100\n",
      "3000/3000 [==============================] - 0s 81us/step - loss: 0.2193 - mean_absolute_error: 0.3496\n",
      "Epoch 76/100\n",
      "3000/3000 [==============================] - 0s 77us/step - loss: 0.2303 - mean_absolute_error: 0.3542\n",
      "Epoch 77/100\n",
      "3000/3000 [==============================] - 0s 72us/step - loss: 0.2217 - mean_absolute_error: 0.3476\n",
      "Epoch 78/100\n",
      "3000/3000 [==============================] - 0s 98us/step - loss: 0.1948 - mean_absolute_error: 0.3247\n",
      "Epoch 79/100\n",
      "3000/3000 [==============================] - 0s 81us/step - loss: 0.2074 - mean_absolute_error: 0.3366\n",
      "Epoch 80/100\n",
      "3000/3000 [==============================] - 0s 70us/step - loss: 0.2027 - mean_absolute_error: 0.3328\n",
      "Epoch 81/100\n",
      "3000/3000 [==============================] - 0s 77us/step - loss: 0.2015 - mean_absolute_error: 0.3330\n",
      "Epoch 82/100\n",
      "3000/3000 [==============================] - 0s 76us/step - loss: 0.2035 - mean_absolute_error: 0.3367\n",
      "Epoch 83/100\n",
      "3000/3000 [==============================] - 0s 68us/step - loss: 0.1846 - mean_absolute_error: 0.3168\n",
      "Epoch 84/100\n",
      "3000/3000 [==============================] - 0s 63us/step - loss: 0.1840 - mean_absolute_error: 0.3187\n",
      "Epoch 85/100\n",
      "3000/3000 [==============================] - 0s 74us/step - loss: 0.1846 - mean_absolute_error: 0.3211\n",
      "Epoch 86/100\n",
      "3000/3000 [==============================] - 0s 76us/step - loss: 0.1755 - mean_absolute_error: 0.3087\n",
      "Epoch 87/100\n",
      "3000/3000 [==============================] - 0s 66us/step - loss: 0.1849 - mean_absolute_error: 0.3200\n",
      "Epoch 88/100\n",
      "3000/3000 [==============================] - 0s 72us/step - loss: 0.1792 - mean_absolute_error: 0.3143\n",
      "Epoch 89/100\n",
      "3000/3000 [==============================] - 0s 73us/step - loss: 0.1625 - mean_absolute_error: 0.2995\n",
      "Epoch 90/100\n",
      "3000/3000 [==============================] - 0s 82us/step - loss: 0.1689 - mean_absolute_error: 0.3055\n",
      "Epoch 91/100\n",
      "3000/3000 [==============================] - 0s 68us/step - loss: 0.1721 - mean_absolute_error: 0.3077\n",
      "Epoch 92/100\n",
      "3000/3000 [==============================] - 0s 60us/step - loss: 0.1750 - mean_absolute_error: 0.3098\n",
      "Epoch 93/100\n",
      "3000/3000 [==============================] - 0s 70us/step - loss: 0.1771 - mean_absolute_error: 0.3171\n",
      "Epoch 94/100\n",
      "3000/3000 [==============================] - 0s 84us/step - loss: 0.1678 - mean_absolute_error: 0.3022\n",
      "Epoch 95/100\n",
      "3000/3000 [==============================] - 0s 67us/step - loss: 0.1753 - mean_absolute_error: 0.3120\n",
      "Epoch 96/100\n",
      "3000/3000 [==============================] - 0s 73us/step - loss: 0.1829 - mean_absolute_error: 0.3184\n",
      "Epoch 97/100\n",
      "3000/3000 [==============================] - 0s 81us/step - loss: 0.1744 - mean_absolute_error: 0.3066\n",
      "Epoch 98/100\n",
      "3000/3000 [==============================] - 0s 68us/step - loss: 0.1853 - mean_absolute_error: 0.3176\n",
      "Epoch 99/100\n",
      "3000/3000 [==============================] - 0s 75us/step - loss: 0.1756 - mean_absolute_error: 0.3083\n",
      "Epoch 100/100\n",
      "3000/3000 [==============================] - 0s 84us/step - loss: 0.1685 - mean_absolute_error: 0.2981\n"
     ]
    }
   ],
   "source": [
    "dense = tf.keras.Sequential([\n",
    "    tf.keras.layers.Conv1D(filters=32,\n",
    "                           kernel_size=(3,),\n",
    "                           activation='relu'),\n",
    "    tf.keras.layers.Flatten(),\n",
    "    tf.keras.layers.Dense(64, activation='relu'),\n",
    "    tf.keras.layers.Dense(1)\n",
    "])\n",
    "\n",
    "history = compile_and_fit(dense, input_mat=np.array(train_input), output_mat=train_output)"
   ]
  },
  {
   "cell_type": "code",
   "execution_count": 364,
   "metadata": {},
   "outputs": [],
   "source": [
    "test_input = input_arr[3000:]\n",
    "test_output = output_arr[3000:]"
   ]
  },
  {
   "cell_type": "code",
   "execution_count": 365,
   "metadata": {},
   "outputs": [],
   "source": [
    "predictions = np.concatenate(dense.predict(np.array(test_input)))"
   ]
  },
  {
   "cell_type": "code",
   "execution_count": 366,
   "metadata": {},
   "outputs": [],
   "source": [
    "actuals = np.concatenate(test_output)"
   ]
  },
  {
   "cell_type": "code",
   "execution_count": 367,
   "metadata": {},
   "outputs": [],
   "source": [
    "errs = []\n",
    "for i in range(len(predictions)):\n",
    "    abs_err = np.abs(predictions[i] - actuals[i])\n",
    "    errs.append(abs_err)"
   ]
  },
  {
   "cell_type": "code",
   "execution_count": 368,
   "metadata": {},
   "outputs": [
    {
     "data": {
      "text/plain": [
       "0.8355672860174569"
      ]
     },
     "execution_count": 368,
     "metadata": {},
     "output_type": "execute_result"
    }
   ],
   "source": [
    "np.mean(errs)"
   ]
  },
  {
   "cell_type": "code",
   "execution_count": 369,
   "metadata": {},
   "outputs": [
    {
     "name": "stdout",
     "output_type": "stream",
     "text": [
      "2165/2165 [==============================] - 0s 122us/step\n"
     ]
    },
    {
     "data": {
      "text/plain": [
       "[1.2368381613671917, 0.8355672897973182]"
      ]
     },
     "execution_count": 369,
     "metadata": {},
     "output_type": "execute_result"
    }
   ],
   "source": [
    "dense.evaluate(np.array(test_input), test_output)"
   ]
  },
  {
   "cell_type": "code",
   "execution_count": 370,
   "metadata": {},
   "outputs": [
    {
     "name": "stdout",
     "output_type": "stream",
     "text": [
      "_________________________________________________________________\n",
      "Layer (type)                 Output Shape              Param #   \n",
      "=================================================================\n",
      "conv1d_21 (Conv1D)           (None, 12, 32)            128       \n",
      "_________________________________________________________________\n",
      "flatten_11 (Flatten)         (None, 384)               0         \n",
      "_________________________________________________________________\n",
      "dense_86 (Dense)             (None, 64)                24640     \n",
      "_________________________________________________________________\n",
      "dense_87 (Dense)             (None, 1)                 65        \n",
      "=================================================================\n",
      "Total params: 24,833\n",
      "Trainable params: 24,833\n",
      "Non-trainable params: 0\n",
      "_________________________________________________________________\n"
     ]
    }
   ],
   "source": [
    "dense.summary()"
   ]
  },
  {
   "cell_type": "code",
   "execution_count": null,
   "metadata": {},
   "outputs": [],
   "source": []
  }
 ],
 "metadata": {
  "kernelspec": {
   "display_name": "Python 3",
   "language": "python",
   "name": "python3"
  },
  "language_info": {
   "codemirror_mode": {
    "name": "ipython",
    "version": 3
   },
   "file_extension": ".py",
   "mimetype": "text/x-python",
   "name": "python",
   "nbconvert_exporter": "python",
   "pygments_lexer": "ipython3",
   "version": "3.6.5"
  }
 },
 "nbformat": 4,
 "nbformat_minor": 2
}
